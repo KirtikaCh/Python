{
 "cells": [
  {
   "cell_type": "code",
   "execution_count": 1,
   "metadata": {},
   "outputs": [
    {
     "name": "stdout",
     "output_type": "stream",
     "text": [
      "['Oranges', 'Papaya', 'Apple', 'Banana', 'Grapes']\n"
     ]
    }
   ],
   "source": [
    "Fruits=[\"Oranges\",\"Papaya\",\"Apple\",\"Banana\",\"Grapes\"]  #here i assign only string values in list you can assign multiple different different value in list\n",
    "print(Fruits)"
   ]
  },
  {
   "cell_type": "code",
   "execution_count": 2,
   "metadata": {},
   "outputs": [
    {
     "name": "stdout",
     "output_type": "stream",
     "text": [
      "[3, 6, 8, 4, 9, 10]\n",
      "[True, False]\n"
     ]
    }
   ],
   "source": [
    "List1 =[3,6,8,4,9,10]\n",
    "list2 = [True,False]\n",
    "# you can assign any data tpye value in list\n",
    "print(List1)\n",
    "print(list2)"
   ]
  },
  {
   "cell_type": "code",
   "execution_count": null,
   "metadata": {},
   "outputs": [],
   "source": []
  }
 ],
 "metadata": {
  "kernelspec": {
   "display_name": "Python 3",
   "language": "python",
   "name": "python3"
  },
  "language_info": {
   "codemirror_mode": {
    "name": "ipython",
    "version": 3
   },
   "file_extension": ".py",
   "mimetype": "text/x-python",
   "name": "python",
   "nbconvert_exporter": "python",
   "pygments_lexer": "ipython3",
   "version": "3.12.1"
  }
 },
 "nbformat": 4,
 "nbformat_minor": 2
}
