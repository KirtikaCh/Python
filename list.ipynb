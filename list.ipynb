{
 "cells": [
  {
   "cell_type": "code",
   "execution_count": 1,
   "metadata": {},
   "outputs": [
    {
     "name": "stdout",
     "output_type": "stream",
     "text": [
      "['Oranges', 'Papaya', 'Apple', 'Banana', 'Grapes']\n"
     ]
    }
   ],
   "source": [
    "# [start:end:skip/step]\n",
    "str=(\"kirtika\",\"chaudhary\",\"and\",\"mayank\",\"chaudhary\")\n",
    "str[0:4:2]"
   ]
  },
  {
   "cell_type": "code",
   "execution_count": 3,
   "metadata": {},
   "outputs": [
    {
     "name": "stdout",
     "output_type": "stream",
     "text": [
      "<class 'list'>\n",
      "<class 'list'>\n",
      "<class 'list'>\n",
      "['facebook', 'amazon', 45667, 12]\n",
      "<class 'list'>\n",
      "45667\n",
      "12\n",
      "['amazon', 45667]\n",
      "['facebook', 'amazon', 45667, 12]\n",
      "['facebook', 'amazon', 45667, 12]\n",
      "['facebook', 45667]\n",
      "['facebook', 45667]\n",
      "True\n",
      "False\n"
     ]
    }
   ],
   "source": [
    "#list\n",
    "l1=[\"red\",\"blue\",\"green\",\"white\",\"brown\"]\n",
    "print(type(l1))\n",
    "l2=[3,7,6,4,9,4]\n",
    "print(type(l2))\n",
    "l3=[\"jyoti\",23,\"kittu\",12,\"neetu\",22]\n",
    "print(type(l2))\n",
    "#list constructor\n",
    "l4=list((\"facebook\",\"amazon\",45667,12))\n",
    "print(l4)\n",
    "print(type(l4))\n",
    "print(l4[2])\n",
    "print(l4[-1])\n",
    "print(l4[1:3])\n",
    "print(l4[:4])\n",
    "print(l4[0:])\n",
    "print(l4[:3:2])\n",
    "print(l4[:-1:2])\n"
   ]
  },
  {
   "cell_type": "markdown",
   "metadata": {},
   "source": [
    "***Check if item exist***"
   ]
  },
  {
   "cell_type": "code",
   "execution_count": 4,
   "metadata": {},
   "outputs": [
    {
     "name": "stdout",
     "output_type": "stream",
     "text": [
      "True\n",
      "False\n"
     ]
    }
   ],
   "source": [
    "\n",
    "print(12 in l4)\n",
    "print(\"pizza\" in l4)"
   ]
  },
  {
   "cell_type": "code",
   "execution_count": 5,
   "metadata": {},
   "outputs": [
    {
     "name": "stdout",
     "output_type": "stream",
     "text": [
      "yes\n"
     ]
    }
   ],
   "source": [
    "if 12 in l4:\n",
    "    print(\"yes\")\n",
    "else:\n",
    "    print(\"no\")"
   ]
  },
  {
   "cell_type": "markdown",
   "metadata": {},
   "source": [
    "***Change item value***"
   ]
  },
  {
   "cell_type": "code",
   "execution_count": 14,
   "metadata": {},
   "outputs": [],
   "source": [
    "list1=[\"mango\",\"orange\",\"apple\",\"grapes\"]\n",
    "list1[1]=\"kiwi\"\n",
    "list1[-1]=\"pinapple\""
   ]
  },
  {
   "cell_type": "markdown",
   "metadata": {},
   "source": [
    "***Change a range of item value***"
   ]
  },
  {
   "cell_type": "code",
   "execution_count": 13,
   "metadata": {},
   "outputs": [
    {
     "name": "stdout",
     "output_type": "stream",
     "text": [
      "['Papaya', 'Apple', 'Banana', 'apple', 'pinapple']\n"
     ]
    }
   ],
   "source": [
    "list1[:2]=[\"Papaya\",\"Apple\",\"Banana\"]\n",
    "print(list1)"
   ]
  },
  {
   "cell_type": "markdown",
   "metadata": {},
   "source": [
    "***Insert item***"
   ]
  },
  {
   "cell_type": "code",
   "execution_count": 18,
   "metadata": {},
   "outputs": [
    {
     "name": "stdout",
     "output_type": "stream",
     "text": [
      "[2, 'a', 6, 9, 4, 3]\n",
      "[2, 'a', 6, 9, 4, 3, 0]\n"
     ]
    }
   ],
   "source": [
    "list5=[2,6,9,4,3]\n",
    "list5.insert(1,'a')\n",
    "print(list5)\n",
    "list5.append(0)\n",
    "print(list5)"
   ]
  },
  {
   "cell_type": "markdown",
   "metadata": {},
   "source": [
    "***Extend List***"
   ]
  },
  {
   "cell_type": "code",
   "execution_count": 19,
   "metadata": {},
   "outputs": [
    {
     "name": "stdout",
     "output_type": "stream",
     "text": [
      "['a', 'b', 'c', 'd', 'e', 1, 2, 3, 4, 5, 6]\n"
     ]
    }
   ],
   "source": [
    "list8=['a','b','c','d','e']\n",
    "list9=[1,2,3,4,5,6]\n",
    "list8.extend(list9)\n",
    "print(list8)"
   ]
  },
  {
   "cell_type": "code",
   "execution_count": null,
   "metadata": {},
   "outputs": [],
   "source": []
  }
 ],
 "metadata": {
  "kernelspec": {
   "display_name": "Python 3",
   "language": "python",
   "name": "python3"
  },
  "language_info": {
   "codemirror_mode": {
    "name": "ipython",
    "version": 3
   },
   "file_extension": ".py",
   "mimetype": "text/x-python",
   "name": "python",
   "nbconvert_exporter": "python",
   "pygments_lexer": "ipython3",
   "version": "3.12.1"
  }
 },
 "nbformat": 4,
 "nbformat_minor": 2
}
