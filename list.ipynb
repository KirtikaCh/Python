{
 "cells": [
  {
   "cell_type": "code",
   "execution_count": null,
   "metadata": {},
   "outputs": [],
   "source": [
    "Fruits=[\"Oranges\",\"Papaya\",\"Apple\",\"Banana\",\"Grapes\"]  #here i assign only string values in list you can assign multiple different different value in list\n",
    "print(Fruits)"
   ]
  }
 ],
 "metadata": {
  "language_info": {
   "name": "python"
  }
 },
 "nbformat": 4,
 "nbformat_minor": 2
}
