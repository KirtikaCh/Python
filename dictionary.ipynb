{
 "cells": [
  {
   "cell_type": "markdown",
   "metadata": {},
   "source": [
    "***Creating a Dictionary***"
   ]
  },
  {
   "cell_type": "code",
   "execution_count": 1,
   "metadata": {},
   "outputs": [
    {
     "name": "stdout",
     "output_type": "stream",
     "text": [
      "{'car': 'fine', 'train': 'worst', 'truck': 'best'}\n"
     ]
    }
   ],
   "source": [
    "vehicles ={\"car\":\"fine\",\"train\":\"worst\",\"truck\":\"best\"}\n",
    "print(vehicles)"
   ]
  },
  {
   "cell_type": "markdown",
   "metadata": {},
   "source": [
    "***Accessing Values***"
   ]
  },
  {
   "cell_type": "code",
   "execution_count": 2,
   "metadata": {},
   "outputs": [
    {
     "name": "stdout",
     "output_type": "stream",
     "text": [
      "fine\n",
      "worst\n"
     ]
    }
   ],
   "source": [
    "print(vehicles[\"car\"])\n",
    "get=vehicles[\"train\"]\n",
    "print(get)"
   ]
  },
  {
   "cell_type": "markdown",
   "metadata": {},
   "source": [
    "***Modifying values***"
   ]
  },
  {
   "cell_type": "code",
   "execution_count": 3,
   "metadata": {},
   "outputs": [
    {
     "name": "stdout",
     "output_type": "stream",
     "text": [
      "{'car': 'fine', 'train': 'not bad', 'truck': 'best'}\n"
     ]
    }
   ],
   "source": [
    "vehicles[\"train\"]=\"not bad\"\n",
    "print(vehicles)"
   ]
  },
  {
   "cell_type": "markdown",
   "metadata": {},
   "source": [
    "***Adding new key-value pairs***"
   ]
  },
  {
   "cell_type": "code",
   "execution_count": 4,
   "metadata": {},
   "outputs": [
    {
     "name": "stdout",
     "output_type": "stream",
     "text": [
      "{'car': 'fine', 'train': 'not bad', 'truck': 'best', 'bicycle': 'good'}\n"
     ]
    }
   ],
   "source": [
    "vehicles[\"bicycle\"]=\"good\"\n",
    "print(vehicles)"
   ]
  },
  {
   "cell_type": "markdown",
   "metadata": {},
   "source": [
    "***Dictionary methods***"
   ]
  },
  {
   "cell_type": "code",
   "execution_count": 5,
   "metadata": {},
   "outputs": [
    {
     "name": "stdout",
     "output_type": "stream",
     "text": [
      "dict_keys(['car', 'train', 'truck', 'bicycle'])\n",
      "dict_values(['fine', 'not bad', 'best', 'good'])\n",
      "dict_items([('car', 'fine'), ('train', 'not bad'), ('truck', 'best'), ('bicycle', 'good')])\n"
     ]
    }
   ],
   "source": [
    "keys=vehicles.keys()\n",
    "values=vehicles.values()\n",
    "items=vehicles.items()\n",
    "print(keys)\n",
    "print(values)\n",
    "print(items)"
   ]
  },
  {
   "cell_type": "markdown",
   "metadata": {},
   "source": [
    "***Nesting Dictionaries***"
   ]
  },
  {
   "cell_type": "code",
   "execution_count": 7,
   "metadata": {},
   "outputs": [
    {
     "name": "stdout",
     "output_type": "stream",
     "text": [
      "Chaudhary\n"
     ]
    }
   ],
   "source": [
    "students={\n",
    "    \"student1\":{\"Kirtika\":\"Chaudhary\",\"Somya\":\"Garg\"},\n",
    "    \"student2\":{\"Mayank\":\"Chaudhary\",\"Aakash\":\"Rathi\"}\n",
    "}\n",
    "print(students[\"student1\"][\"Kirtika\"])"
   ]
  },
  {
   "cell_type": "code",
   "execution_count": null,
   "metadata": {},
   "outputs": [],
   "source": []
  }
 ],
 "metadata": {
  "kernelspec": {
   "display_name": "Python 3",
   "language": "python",
   "name": "python3"
  },
  "language_info": {
   "codemirror_mode": {
    "name": "ipython",
    "version": 3
   },
   "file_extension": ".py",
   "mimetype": "text/x-python",
   "name": "python",
   "nbconvert_exporter": "python",
   "pygments_lexer": "ipython3",
   "version": "3.12.1"
  }
 },
 "nbformat": 4,
 "nbformat_minor": 2
}
