{
 "cells": [
  {
   "cell_type": "code",
   "execution_count": 1,
   "metadata": {},
   "outputs": [
    {
     "name": "stdout",
     "output_type": "stream",
     "text": [
      "1 string\n",
      "1 number\n",
      "1 float\n",
      "1 double\n",
      "2 string\n",
      "2 number\n",
      "2 float\n",
      "2 double\n",
      "3 string\n",
      "3 number\n",
      "3 float\n",
      "3 double\n",
      "5 string\n",
      "5 number\n",
      "5 float\n",
      "5 double\n",
      "6 string\n",
      "6 number\n",
      "6 float\n",
      "6 double\n"
     ]
    }
   ],
   "source": [
    "list1=[1,2,3,5,6]\n",
    "list2=[\"string\",\"number\",\"float\",\"double\"]\n",
    "for x in list1:\n",
    "    for y in list2:\n",
    "        print(x,y)"
   ]
  },
  {
   "cell_type": "code",
   "execution_count": 1,
   "metadata": {},
   "outputs": [
    {
     "name": "stdout",
     "output_type": "stream",
     "text": [
      "3 yes\n",
      "3 no\n",
      "3 true\n",
      "3 false\n",
      "5 yes\n",
      "5 no\n",
      "5 true\n",
      "5 false\n",
      "8 yes\n",
      "8 no\n",
      "8 true\n",
      "8 false\n",
      "1 yes\n",
      "1 no\n",
      "1 true\n",
      "1 false\n",
      "7 yes\n",
      "7 no\n",
      "7 true\n",
      "7 false\n"
     ]
    }
   ],
   "source": [
    "tp1=(3,5,8,1,7)\n",
    "tp2=(\"yes\",\"no\",\"true\",\"false\")\n",
    "for x in tp1:\n",
    "    for y in tp2:\n",
    "        print(x,y)"
   ]
  },
  {
   "cell_type": "code",
   "execution_count": null,
   "metadata": {},
   "outputs": [],
   "source": []
  }
 ],
 "metadata": {
  "kernelspec": {
   "display_name": "Python 3",
   "language": "python",
   "name": "python3"
  },
  "language_info": {
   "codemirror_mode": {
    "name": "ipython",
    "version": 3
   },
   "file_extension": ".py",
   "mimetype": "text/x-python",
   "name": "python",
   "nbconvert_exporter": "python",
   "pygments_lexer": "ipython3",
   "version": "3.12.1"
  }
 },
 "nbformat": 4,
 "nbformat_minor": 2
}
