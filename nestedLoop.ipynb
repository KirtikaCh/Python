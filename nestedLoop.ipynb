{
 "cells": [
  {
   "cell_type": "code",
   "execution_count": 1,
   "metadata": {},
   "outputs": [
    {
     "name": "stdout",
     "output_type": "stream",
     "text": [
      "1 string\n",
      "1 number\n",
      "1 float\n",
      "1 double\n",
      "2 string\n",
      "2 number\n",
      "2 float\n",
      "2 double\n",
      "3 string\n",
      "3 number\n",
      "3 float\n",
      "3 double\n",
      "5 string\n",
      "5 number\n",
      "5 float\n",
      "5 double\n",
      "6 string\n",
      "6 number\n",
      "6 float\n",
      "6 double\n"
     ]
    }
   ],
   "source": [
    "list1=[1,2,3,5,6]\n",
    "list2=[\"string\",\"number\",\"float\",\"double\"]\n",
    "for x in list1:\n",
    "    for y in list2:\n",
    "        print(x,y)"
   ]
  },
  {
   "cell_type": "code",
   "execution_count": null,
   "metadata": {},
   "outputs": [],
   "source": []
  }
 ],
 "metadata": {
  "kernelspec": {
   "display_name": "Python 3",
   "language": "python",
   "name": "python3"
  },
  "language_info": {
   "codemirror_mode": {
    "name": "ipython",
    "version": 3
   },
   "file_extension": ".py",
   "mimetype": "text/x-python",
   "name": "python",
   "nbconvert_exporter": "python",
   "pygments_lexer": "ipython3",
   "version": "3.12.1"
  }
 },
 "nbformat": 4,
 "nbformat_minor": 2
}
