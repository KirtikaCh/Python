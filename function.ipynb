{
 "cells": [
  {
   "cell_type": "markdown",
   "metadata": {},
   "source": [
    "***Function in python is reusable block of code which we use to perform specific task***"
   ]
  },
  {
   "cell_type": "code",
   "execution_count": 1,
   "metadata": {},
   "outputs": [
    {
     "name": "stdout",
     "output_type": "stream",
     "text": [
      "Hello Kirtika!\n"
     ]
    }
   ],
   "source": [
    "#greet\n",
    "def greet(name):\n",
    "    print(\"Hello \"+name+\"!\")\n",
    "#calling the function\n",
    "greet(\"Kirtika\")"
   ]
  },
  {
   "cell_type": "code",
   "execution_count": 2,
   "metadata": {},
   "outputs": [
    {
     "data": {
      "text/plain": [
       "16"
      ]
     },
     "execution_count": 2,
     "metadata": {},
     "output_type": "execute_result"
    }
   ],
   "source": [
    "#sum\n",
    "def sum(a,b):\n",
    "    return a+b\n",
    "sum(7,9)"
   ]
  },
  {
   "cell_type": "code",
   "execution_count": 4,
   "metadata": {},
   "outputs": [
    {
     "data": {
      "text/plain": [
       "'hello jyoti'"
      ]
     },
     "execution_count": 4,
     "metadata": {},
     "output_type": "execute_result"
    }
   ],
   "source": [
    "def greet2(name):\n",
    "    return \"hello \"+name\n",
    "value=input(\"Enter your name:\")\n",
    "greet2(value)"
   ]
  },
  {
   "cell_type": "code",
   "execution_count": 5,
   "metadata": {},
   "outputs": [
    {
     "data": {
      "text/plain": [
       "13"
      ]
     },
     "execution_count": 5,
     "metadata": {},
     "output_type": "execute_result"
    }
   ],
   "source": [
    "def sum(a,b):\n",
    "    return a+b\n",
    "num1=int(input(\"Enter first number\"))\n",
    "num2=int(input(\"Enter second number\"))\n",
    "sum(num1,num2)"
   ]
  },
  {
   "cell_type": "code",
   "execution_count": 6,
   "metadata": {},
   "outputs": [
    {
     "name": "stdout",
     "output_type": "stream",
     "text": [
      "Bihar\n",
      "Mizoram\n",
      "Nagaland\n",
      "Rajasthan\n"
     ]
    }
   ],
   "source": [
    "def my_function(stat):\n",
    "  for x in stat:\n",
    "    print(x)\n",
    "\n",
    "states = [\"Bihar\",\"Mizoram\",\"Nagaland\",\"Rajasthan\"]\n",
    "\n",
    "my_function(states)"
   ]
  },
  {
   "cell_type": "code",
   "execution_count": 8,
   "metadata": {},
   "outputs": [
    {
     "name": "stdout",
     "output_type": "stream",
     "text": [
      "3\n",
      "6\n",
      "9\n",
      "2\n",
      "55\n",
      "55\n",
      "33\n",
      "1\n",
      "9\n",
      "43\n"
     ]
    }
   ],
   "source": [
    "def my_function(stat):\n",
    "  for x in stat:\n",
    "    if x>64:\n",
    "       continue\n",
    "    print(x)\n",
    "\n",
    "num = [3,6,9,2,55,77,55,33,1,9,78,43,67]\n",
    "\n",
    "my_function(num)"
   ]
  },
  {
   "cell_type": "code",
   "execution_count": null,
   "metadata": {},
   "outputs": [],
   "source": []
  }
 ],
 "metadata": {
  "kernelspec": {
   "display_name": "Python 3",
   "language": "python",
   "name": "python3"
  },
  "language_info": {
   "codemirror_mode": {
    "name": "ipython",
    "version": 3
   },
   "file_extension": ".py",
   "mimetype": "text/x-python",
   "name": "python",
   "nbconvert_exporter": "python",
   "pygments_lexer": "ipython3",
   "version": "3.12.1"
  }
 },
 "nbformat": 4,
 "nbformat_minor": 2
}
