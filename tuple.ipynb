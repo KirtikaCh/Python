{
 "cells": [
  {
   "cell_type": "markdown",
   "metadata": {},
   "source": [
    "***Creating a Tuple***"
   ]
  },
  {
   "cell_type": "code",
   "execution_count": 4,
   "metadata": {},
   "outputs": [
    {
     "name": "stdout",
     "output_type": "stream",
     "text": [
      "<class 'tuple'>\n",
      "<class 'tuple'>\n",
      "<class 'tuple'>\n"
     ]
    }
   ],
   "source": [
    "t1=(1,4,2,6,8)\n",
    "print(type(t1))\n",
    "t2=(\"tree\",\"plant\",\"shrub\",\"herbs\")\n",
    "print(type(t2))\n",
    "t3=(1,\"tree\",2,\"plant\",3,\"shrub\",4,\"herbs\")\n",
    "print(type(t3)) "
   ]
  },
  {
   "cell_type": "markdown",
   "metadata": {},
   "source": [
    "***Tuple Constructor***"
   ]
  },
  {
   "cell_type": "code",
   "execution_count": 5,
   "metadata": {},
   "outputs": [
    {
     "name": "stdout",
     "output_type": "stream",
     "text": [
      "<class 'tuple'>\n"
     ]
    }
   ],
   "source": [
    "t4=tuple((\"dog\",\"cat\",\"rabbit\",\"birds\"))\n",
    "print(type(t4))"
   ]
  },
  {
   "cell_type": "markdown",
   "metadata": {},
   "source": [
    "***Tuple Length***"
   ]
  },
  {
   "cell_type": "code",
   "execution_count": 6,
   "metadata": {},
   "outputs": [
    {
     "name": "stdout",
     "output_type": "stream",
     "text": [
      "6\n"
     ]
    }
   ],
   "source": [
    "t5=(2,5,6,4,8,9)\n",
    "print(len(t5))"
   ]
  },
  {
   "cell_type": "code",
   "execution_count": 8,
   "metadata": {},
   "outputs": [
    {
     "name": "stdout",
     "output_type": "stream",
     "text": [
      "6\n",
      "2\n"
     ]
    }
   ],
   "source": [
    "t6=(2555,\"kittu\",2879,\"shanu\",6544,\"gudiya\")\n",
    "print(len(t6))\n",
    "t6=(222,789)\n",
    "print(len(t6))"
   ]
  },
  {
   "cell_type": "markdown",
   "metadata": {},
   "source": [
    "***Access Tuple Items***"
   ]
  },
  {
   "cell_type": "code",
   "execution_count": 15,
   "metadata": {},
   "outputs": [
    {
     "name": "stdout",
     "output_type": "stream",
     "text": [
      "ear\n",
      "hands\n",
      "hands\n",
      "eyes\n"
     ]
    },
    {
     "ename": "IndexError",
     "evalue": "tuple index out of range",
     "output_type": "error",
     "traceback": [
      "\u001b[1;31m---------------------------------------------------------------------------\u001b[0m",
      "\u001b[1;31mIndexError\u001b[0m                                Traceback (most recent call last)",
      "Cell \u001b[1;32mIn[15], line 7\u001b[0m\n\u001b[0;32m      5\u001b[0m \u001b[38;5;28mprint\u001b[39m(t7[\u001b[38;5;241m-\u001b[39m\u001b[38;5;241m1\u001b[39m])\n\u001b[0;32m      6\u001b[0m \u001b[38;5;28mprint\u001b[39m(t7[\u001b[38;5;241m-\u001b[39m\u001b[38;5;241m4\u001b[39m])\n\u001b[1;32m----> 7\u001b[0m \u001b[38;5;28mprint\u001b[39m(\u001b[43mt7\u001b[49m\u001b[43m[\u001b[49m\u001b[38;5;241;43m-\u001b[39;49m\u001b[38;5;241;43m7\u001b[39;49m\u001b[43m]\u001b[49m) \u001b[38;5;66;03m# index error\u001b[39;00m\n",
      "\u001b[1;31mIndexError\u001b[0m: tuple index out of range"
     ]
    }
   ],
   "source": [
    "t7=(\"ear\",\"eyes\",\"nose\",\"skin\",\"hands\")\n",
    "print(t7[0])\n",
    "print(t7[4])\n",
    "# negative indexing\n",
    "print(t7[-1])\n",
    "print(t7[-4])\n",
    "print(t7[-7]) # index error"
   ]
  },
  {
   "cell_type": "markdown",
   "metadata": {},
   "source": [
    "***Range of Indexes And Range of Negative Indexes***"
   ]
  },
  {
   "cell_type": "code",
   "execution_count": 26,
   "metadata": {},
   "outputs": [
    {
     "name": "stdout",
     "output_type": "stream",
     "text": [
      "('monitor', 'CPU', 'Speaker')\n",
      "('monitor', 'Speaker')\n",
      "()\n",
      "('keyboard', 'mouse', 'monitor')\n",
      "('monitor', 'CPU', 'Speaker')\n",
      "()\n",
      "('monitor', 'CPU')\n",
      "('keyboard',)\n",
      "()\n"
     ]
    }
   ],
   "source": [
    "t8=(\"keyboard\",\"mouse\",\"monitor\",\"CPU\",\"Speaker\")\n",
    "print(t8[2:5])\n",
    "print(t8[2:5:2])\n",
    "print(t8[2:5:-2]) # empty - cannot give negative skips/steps\n",
    "print(t8[:3]) \n",
    "print(t8[2:])\n",
    "print(t8[-1:-3]) # empty\n",
    "print(t8[-3:-1])\n",
    "print(t8[-5:-2:3])\n",
    "print(t8[-5:-2:-2]) # empty - cannot give negative skips/steps"
   ]
  },
  {
   "cell_type": "code",
   "execution_count": null,
   "metadata": {},
   "outputs": [],
   "source": []
  }
 ],
 "metadata": {
  "kernelspec": {
   "display_name": "Python 3",
   "language": "python",
   "name": "python3"
  },
  "language_info": {
   "codemirror_mode": {
    "name": "ipython",
    "version": 3
   },
   "file_extension": ".py",
   "mimetype": "text/x-python",
   "name": "python",
   "nbconvert_exporter": "python",
   "pygments_lexer": "ipython3",
   "version": "3.12.1"
  }
 },
 "nbformat": 4,
 "nbformat_minor": 2
}
